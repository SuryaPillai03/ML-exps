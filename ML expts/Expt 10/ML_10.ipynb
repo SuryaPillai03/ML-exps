{
  "nbformat": 4,
  "nbformat_minor": 0,
  "metadata": {
    "colab": {
      "provenance": []
    },
    "kernelspec": {
      "name": "python3",
      "display_name": "Python 3"
    },
    "language_info": {
      "name": "python"
    }
  },
  "cells": [
    {
      "cell_type": "code",
      "execution_count": null,
      "metadata": {
        "colab": {
          "base_uri": "https://localhost:8080/"
        },
        "id": "QbzlHTQA7JTw",
        "outputId": "9cf7ffd4-b22f-4aa3-b149-fa34d4f3554d"
      },
      "outputs": [
        {
          "output_type": "stream",
          "name": "stdout",
          "text": [
            "Collecting catboost\n",
            "  Downloading catboost-1.2.7-cp310-cp310-manylinux2014_x86_64.whl.metadata (1.2 kB)\n",
            "Requirement already satisfied: graphviz in /usr/local/lib/python3.10/dist-packages (from catboost) (0.20.3)\n",
            "Requirement already satisfied: matplotlib in /usr/local/lib/python3.10/dist-packages (from catboost) (3.7.1)\n",
            "Requirement already satisfied: numpy<2.0,>=1.16.0 in /usr/local/lib/python3.10/dist-packages (from catboost) (1.26.4)\n",
            "Requirement already satisfied: pandas>=0.24 in /usr/local/lib/python3.10/dist-packages (from catboost) (2.2.2)\n",
            "Requirement already satisfied: scipy in /usr/local/lib/python3.10/dist-packages (from catboost) (1.13.1)\n",
            "Requirement already satisfied: plotly in /usr/local/lib/python3.10/dist-packages (from catboost) (5.24.1)\n",
            "Requirement already satisfied: six in /usr/local/lib/python3.10/dist-packages (from catboost) (1.16.0)\n",
            "Requirement already satisfied: python-dateutil>=2.8.2 in /usr/local/lib/python3.10/dist-packages (from pandas>=0.24->catboost) (2.8.2)\n",
            "Requirement already satisfied: pytz>=2020.1 in /usr/local/lib/python3.10/dist-packages (from pandas>=0.24->catboost) (2024.2)\n",
            "Requirement already satisfied: tzdata>=2022.7 in /usr/local/lib/python3.10/dist-packages (from pandas>=0.24->catboost) (2024.2)\n",
            "Requirement already satisfied: contourpy>=1.0.1 in /usr/local/lib/python3.10/dist-packages (from matplotlib->catboost) (1.3.0)\n",
            "Requirement already satisfied: cycler>=0.10 in /usr/local/lib/python3.10/dist-packages (from matplotlib->catboost) (0.12.1)\n",
            "Requirement already satisfied: fonttools>=4.22.0 in /usr/local/lib/python3.10/dist-packages (from matplotlib->catboost) (4.54.1)\n",
            "Requirement already satisfied: kiwisolver>=1.0.1 in /usr/local/lib/python3.10/dist-packages (from matplotlib->catboost) (1.4.7)\n",
            "Requirement already satisfied: packaging>=20.0 in /usr/local/lib/python3.10/dist-packages (from matplotlib->catboost) (24.1)\n",
            "Requirement already satisfied: pillow>=6.2.0 in /usr/local/lib/python3.10/dist-packages (from matplotlib->catboost) (10.4.0)\n",
            "Requirement already satisfied: pyparsing>=2.3.1 in /usr/local/lib/python3.10/dist-packages (from matplotlib->catboost) (3.1.4)\n",
            "Requirement already satisfied: tenacity>=6.2.0 in /usr/local/lib/python3.10/dist-packages (from plotly->catboost) (9.0.0)\n",
            "Downloading catboost-1.2.7-cp310-cp310-manylinux2014_x86_64.whl (98.7 MB)\n",
            "\u001b[2K   \u001b[90m━━━━━━━━━━━━━━━━━━━━━━━━━━━━━━━━━━━━━━━━\u001b[0m \u001b[32m98.7/98.7 MB\u001b[0m \u001b[31m8.4 MB/s\u001b[0m eta \u001b[36m0:00:00\u001b[0m\n",
            "\u001b[?25hInstalling collected packages: catboost\n",
            "Successfully installed catboost-1.2.7\n"
          ]
        }
      ],
      "source": [
        "!pip install catboost"
      ]
    },
    {
      "cell_type": "code",
      "source": [
        "# Step 1: Install CatBoost if not already installed\n",
        "#!pip install catboost # Install the catboost package\n",
        "# Step 2: Import necessary libraries\n",
        "import pandas as pd\n",
        "from sklearn.model_selection import train_test_split\n",
        "from sklearn.metrics import mean_absolute_error\n",
        "from catboost import CatBoostRegressor\n",
        "# Step 3: Load a house prices dataset\n",
        "# For this example, we'll use a simplified dataset\n",
        "data_url = 'https://raw.githubusercontent.com/selva86/datasets/master/BostonHousing.csv'\n",
        "df = pd.read_csv(data_url)\n",
        "# Display the first few rows of the dataset\n",
        "print(\"First few rows of the dataset:\")\n",
        "print(df.head())\n",
        "# Step 4: Preprocess the data\n",
        "X = df.drop(['medv'], axis=1)  # 'medv' is the median value of owner-occupied homes (target)\n",
        "y = df['medv']\n",
        "# Split the data into training and testing sets\n",
        "X_train, X_test, y_train, y_test = train_test_split(X, y, test_size=0.2, random_state=42)\n",
        "# Step 5: Initialize the CatBoostRegressor\n",
        "catboost_model = CatBoostRegressor(iterations=1000, learning_rate=0.1, depth=6, verbose=100)\n",
        "# Step 6: Train the model\n",
        "catboost_model.fit(X_train, y_train)\n",
        "# Step 7: Make predictions\n",
        "y_pred = catboost_model.predict(X_test)\n",
        "# Step 8: Evaluate the model\n",
        "mae = mean_absolute_error(y_test, y_pred)\n",
        "print(f\"\\nMean Absolute Error of the CatBoost model: {mae:.2f}\")\n",
        "# Optional: Feature Importance Plot\n",
        "feature_importances = catboost_model.get_feature_importance(prettified=True)\n",
        "print(\"Name : Ayan Mastim, UIN : 211P031\")\n",
        "print(\"\\nFeature Importance:\")\n",
        "print(feature_importances)"
      ],
      "metadata": {
        "colab": {
          "base_uri": "https://localhost:8080/"
        },
        "id": "kB0hAg017VXT",
        "outputId": "7eec8bc1-d52f-4e6e-d913-ef3b745859ee"
      },
      "execution_count": null,
      "outputs": [
        {
          "output_type": "stream",
          "name": "stdout",
          "text": [
            "First few rows of the dataset:\n",
            "      crim    zn  indus  chas    nox     rm   age     dis  rad  tax  ptratio  \\\n",
            "0  0.00632  18.0   2.31     0  0.538  6.575  65.2  4.0900    1  296     15.3   \n",
            "1  0.02731   0.0   7.07     0  0.469  6.421  78.9  4.9671    2  242     17.8   \n",
            "2  0.02729   0.0   7.07     0  0.469  7.185  61.1  4.9671    2  242     17.8   \n",
            "3  0.03237   0.0   2.18     0  0.458  6.998  45.8  6.0622    3  222     18.7   \n",
            "4  0.06905   0.0   2.18     0  0.458  7.147  54.2  6.0622    3  222     18.7   \n",
            "\n",
            "        b  lstat  medv  \n",
            "0  396.90   4.98  24.0  \n",
            "1  396.90   9.14  21.6  \n",
            "2  392.83   4.03  34.7  \n",
            "3  394.63   2.94  33.4  \n",
            "4  396.90   5.33  36.2  \n",
            "0:\tlearn: 8.7281973\ttotal: 4.14ms\tremaining: 4.14s\n",
            "100:\tlearn: 1.8117247\ttotal: 769ms\tremaining: 6.85s\n",
            "200:\tlearn: 1.0137452\ttotal: 1.55s\tremaining: 6.16s\n",
            "300:\tlearn: 0.6594916\ttotal: 2.5s\tremaining: 5.8s\n",
            "400:\tlearn: 0.4489127\ttotal: 3.74s\tremaining: 5.58s\n",
            "500:\tlearn: 0.3171942\ttotal: 4.14s\tremaining: 4.12s\n",
            "600:\tlearn: 0.2275363\ttotal: 4.46s\tremaining: 2.96s\n",
            "700:\tlearn: 0.1665685\ttotal: 4.65s\tremaining: 1.98s\n",
            "800:\tlearn: 0.1213108\ttotal: 4.95s\tremaining: 1.23s\n",
            "900:\tlearn: 0.0929088\ttotal: 5.43s\tremaining: 597ms\n",
            "999:\tlearn: 0.0679650\ttotal: 5.85s\tremaining: 0us\n",
            "\n",
            "Mean Absolute Error of the CatBoost model: 1.89\n",
            "Name : Ayan Mastim, UIN : 211P031\n",
            "\n",
            "Feature Importance:\n",
            "   Feature Id  Importances\n",
            "0          rm    32.812723\n",
            "1       lstat    26.689388\n",
            "2     ptratio     6.401536\n",
            "3         dis     6.211808\n",
            "4        crim     5.108273\n",
            "5         nox     4.402625\n",
            "6         age     4.141991\n",
            "7         tax     3.988592\n",
            "8           b     3.258458\n",
            "9       indus     2.039908\n",
            "10        rad     1.977327\n",
            "11       chas     1.809261\n",
            "12         zn     1.158109\n"
          ]
        }
      ]
    },
    {
      "cell_type": "code",
      "source": [
        "!pip install pytorch-tabnet"
      ],
      "metadata": {
        "colab": {
          "base_uri": "https://localhost:8080/"
        },
        "id": "H0uEqjHj7eCB",
        "outputId": "b046ae7a-209e-47eb-ddd5-40eed7b13215"
      },
      "execution_count": null,
      "outputs": [
        {
          "output_type": "stream",
          "name": "stdout",
          "text": [
            "Collecting pytorch-tabnet\n",
            "  Downloading pytorch_tabnet-4.1.0-py3-none-any.whl.metadata (15 kB)\n",
            "Requirement already satisfied: numpy>=1.17 in /usr/local/lib/python3.10/dist-packages (from pytorch-tabnet) (1.26.4)\n",
            "Requirement already satisfied: scikit_learn>0.21 in /usr/local/lib/python3.10/dist-packages (from pytorch-tabnet) (1.5.2)\n",
            "Requirement already satisfied: scipy>1.4 in /usr/local/lib/python3.10/dist-packages (from pytorch-tabnet) (1.13.1)\n",
            "Requirement already satisfied: torch>=1.3 in /usr/local/lib/python3.10/dist-packages (from pytorch-tabnet) (2.4.1+cu121)\n",
            "Requirement already satisfied: tqdm>=4.36 in /usr/local/lib/python3.10/dist-packages (from pytorch-tabnet) (4.66.5)\n",
            "Requirement already satisfied: joblib>=1.2.0 in /usr/local/lib/python3.10/dist-packages (from scikit_learn>0.21->pytorch-tabnet) (1.4.2)\n",
            "Requirement already satisfied: threadpoolctl>=3.1.0 in /usr/local/lib/python3.10/dist-packages (from scikit_learn>0.21->pytorch-tabnet) (3.5.0)\n",
            "Requirement already satisfied: filelock in /usr/local/lib/python3.10/dist-packages (from torch>=1.3->pytorch-tabnet) (3.16.1)\n",
            "Requirement already satisfied: typing-extensions>=4.8.0 in /usr/local/lib/python3.10/dist-packages (from torch>=1.3->pytorch-tabnet) (4.12.2)\n",
            "Requirement already satisfied: sympy in /usr/local/lib/python3.10/dist-packages (from torch>=1.3->pytorch-tabnet) (1.13.3)\n",
            "Requirement already satisfied: networkx in /usr/local/lib/python3.10/dist-packages (from torch>=1.3->pytorch-tabnet) (3.4)\n",
            "Requirement already satisfied: jinja2 in /usr/local/lib/python3.10/dist-packages (from torch>=1.3->pytorch-tabnet) (3.1.4)\n",
            "Requirement already satisfied: fsspec in /usr/local/lib/python3.10/dist-packages (from torch>=1.3->pytorch-tabnet) (2024.6.1)\n",
            "Requirement already satisfied: MarkupSafe>=2.0 in /usr/local/lib/python3.10/dist-packages (from jinja2->torch>=1.3->pytorch-tabnet) (3.0.1)\n",
            "Requirement already satisfied: mpmath<1.4,>=1.1.0 in /usr/local/lib/python3.10/dist-packages (from sympy->torch>=1.3->pytorch-tabnet) (1.3.0)\n",
            "Downloading pytorch_tabnet-4.1.0-py3-none-any.whl (44 kB)\n",
            "\u001b[2K   \u001b[90m━━━━━━━━━━━━━━━━━━━━━━━━━━━━━━━━━━━━━━━━\u001b[0m \u001b[32m44.5/44.5 kB\u001b[0m \u001b[31m1.9 MB/s\u001b[0m eta \u001b[36m0:00:00\u001b[0m\n",
            "\u001b[?25hInstalling collected packages: pytorch-tabnet\n",
            "Successfully installed pytorch-tabnet-4.1.0\n"
          ]
        }
      ]
    },
    {
      "cell_type": "code",
      "source": [
        "import pandas as pd\n",
        "import numpy as np\n",
        "from sklearn.model_selection import train_test_split\n",
        "from sklearn.preprocessing import LabelEncoder\n",
        "from sklearn.metrics import accuracy_score, classification_report\n",
        "from pytorch_tabnet.tab_model import TabNetClassifier\n",
        "# Load the Adult Income dataset\n",
        "data_url = \"https://archive.ics.uci.edu/ml/machine-learning-databases/adult/adult.data\"\n",
        "column_names = [\n",
        "  \"age\", \"workclass\", \"fnlwgt\", \"education\", \"education-num\",\n",
        "  \"marital-status\", \"occupation\", \"relationship\", \"race\", \"sex\",\n",
        "  \"capital-gain\", \"capital-loss\", \"hours-per-week\", \"native-country\", \"income\"\n",
        "]\n",
        "df = pd.read_csv(data_url, header=None, names=column_names, na_values=' ?', skipinitialspace=True)\n",
        "print(\"\\nFirst few rows of the dataset (by Ayan Mastim 211P031):\")\n",
        "print(df.head())\n",
        "# Preprocess the data\n",
        "df.dropna(inplace=True)\n",
        "# Encode categorical variables\n",
        "label_encoders = {}\n",
        "for column in df.select_dtypes(include=['object']).columns:\n",
        "  le = LabelEncoder()\n",
        "  df[column] = le.fit_transform(df[column])\n",
        "  label_encoders[column] = le\n",
        "# Define features and target variable\n",
        "X = df.drop('income', axis=1).values\n",
        "y = df['income'].values\n",
        "# Split the data into training and testing sets\n",
        "X_train, X_test, y_train, y_test = train_test_split(X, y, test_size=0.2, random_state=42)\n",
        "# Step 5: Train the TabNet model\n",
        "tabnet_model = TabNetClassifier()\n",
        "tabnet_model.fit(X_train, y_train, eval_set=[(X_test, y_test)], max_epochs=100, patience=10)\n",
        "# Step 6: Make predictions\n",
        "y_pred = tabnet_model.predict(X_test)\n",
        "# Step 7: Evaluate the model\n",
        "accuracy = accuracy_score(y_test, y_pred)\n",
        "print(f\"\\nAccuracy of TabNet model: {accuracy * 100:.2f}%\")\n",
        "print(\"Classification Report By Ayan Mastim 211P031:\")\n",
        "print(classification_report(y_test, y_pred))"
      ],
      "metadata": {
        "colab": {
          "base_uri": "https://localhost:8080/"
        },
        "id": "0tkwVgjS7hdH",
        "outputId": "2500f49a-37de-4564-dae7-81f1a9e71bba"
      },
      "execution_count": null,
      "outputs": [
        {
          "output_type": "stream",
          "name": "stdout",
          "text": [
            "\n",
            "First few rows of the dataset (by Ayan Mastim 211P031):\n",
            "   age         workclass  fnlwgt  education  education-num  \\\n",
            "0   39         State-gov   77516  Bachelors             13   \n",
            "1   50  Self-emp-not-inc   83311  Bachelors             13   \n",
            "2   38           Private  215646    HS-grad              9   \n",
            "3   53           Private  234721       11th              7   \n",
            "4   28           Private  338409  Bachelors             13   \n",
            "\n",
            "       marital-status         occupation   relationship   race     sex  \\\n",
            "0       Never-married       Adm-clerical  Not-in-family  White    Male   \n",
            "1  Married-civ-spouse    Exec-managerial        Husband  White    Male   \n",
            "2            Divorced  Handlers-cleaners  Not-in-family  White    Male   \n",
            "3  Married-civ-spouse  Handlers-cleaners        Husband  Black    Male   \n",
            "4  Married-civ-spouse     Prof-specialty           Wife  Black  Female   \n",
            "\n",
            "   capital-gain  capital-loss  hours-per-week native-country income  \n",
            "0          2174             0              40  United-States  <=50K  \n",
            "1             0             0              13  United-States  <=50K  \n",
            "2             0             0              40  United-States  <=50K  \n",
            "3             0             0              40  United-States  <=50K  \n",
            "4             0             0              40           Cuba  <=50K  \n"
          ]
        },
        {
          "output_type": "stream",
          "name": "stderr",
          "text": [
            "/usr/local/lib/python3.10/dist-packages/pytorch_tabnet/abstract_model.py:82: UserWarning: Device used : cpu\n",
            "  warnings.warn(f\"Device used : {self.device}\")\n"
          ]
        },
        {
          "output_type": "stream",
          "name": "stdout",
          "text": [
            "epoch 0  | loss: 0.50326 | val_0_auc: 0.52672 |  0:00:01s\n",
            "epoch 1  | loss: 0.39072 | val_0_auc: 0.58154 |  0:00:02s\n",
            "epoch 2  | loss: 0.3729  | val_0_auc: 0.72405 |  0:00:04s\n",
            "epoch 3  | loss: 0.35846 | val_0_auc: 0.75822 |  0:00:05s\n",
            "epoch 4  | loss: 0.34875 | val_0_auc: 0.86099 |  0:00:07s\n",
            "epoch 5  | loss: 0.34248 | val_0_auc: 0.87831 |  0:00:09s\n",
            "epoch 6  | loss: 0.3396  | val_0_auc: 0.88809 |  0:00:10s\n",
            "epoch 7  | loss: 0.33441 | val_0_auc: 0.89585 |  0:00:12s\n",
            "epoch 8  | loss: 0.33174 | val_0_auc: 0.89978 |  0:00:13s\n",
            "epoch 9  | loss: 0.33593 | val_0_auc: 0.89903 |  0:00:15s\n",
            "epoch 10 | loss: 0.33311 | val_0_auc: 0.90043 |  0:00:16s\n",
            "epoch 11 | loss: 0.33266 | val_0_auc: 0.89865 |  0:00:17s\n",
            "epoch 12 | loss: 0.33368 | val_0_auc: 0.90167 |  0:00:19s\n",
            "epoch 13 | loss: 0.32843 | val_0_auc: 0.90354 |  0:00:21s\n",
            "epoch 14 | loss: 0.32792 | val_0_auc: 0.90086 |  0:00:23s\n",
            "epoch 15 | loss: 0.32791 | val_0_auc: 0.90445 |  0:00:24s\n",
            "epoch 16 | loss: 0.32833 | val_0_auc: 0.90535 |  0:00:25s\n",
            "epoch 17 | loss: 0.32838 | val_0_auc: 0.90524 |  0:00:27s\n",
            "epoch 18 | loss: 0.32739 | val_0_auc: 0.90222 |  0:00:28s\n",
            "epoch 19 | loss: 0.32809 | val_0_auc: 0.90402 |  0:00:30s\n",
            "epoch 20 | loss: 0.32907 | val_0_auc: 0.90253 |  0:00:31s\n",
            "epoch 21 | loss: 0.32679 | val_0_auc: 0.90296 |  0:00:32s\n",
            "epoch 22 | loss: 0.32652 | val_0_auc: 0.90313 |  0:00:34s\n",
            "epoch 23 | loss: 0.32279 | val_0_auc: 0.90268 |  0:00:36s\n",
            "epoch 24 | loss: 0.32438 | val_0_auc: 0.90391 |  0:00:38s\n",
            "epoch 25 | loss: 0.32492 | val_0_auc: 0.90556 |  0:00:39s\n",
            "epoch 26 | loss: 0.33153 | val_0_auc: 0.90392 |  0:00:40s\n",
            "epoch 27 | loss: 0.32627 | val_0_auc: 0.90493 |  0:00:42s\n",
            "epoch 28 | loss: 0.32681 | val_0_auc: 0.90331 |  0:00:43s\n",
            "epoch 29 | loss: 0.32718 | val_0_auc: 0.9025  |  0:00:44s\n",
            "epoch 30 | loss: 0.32337 | val_0_auc: 0.90481 |  0:00:46s\n",
            "epoch 31 | loss: 0.32512 | val_0_auc: 0.90603 |  0:00:48s\n",
            "epoch 32 | loss: 0.32382 | val_0_auc: 0.90201 |  0:00:50s\n",
            "epoch 33 | loss: 0.32272 | val_0_auc: 0.90331 |  0:00:51s\n",
            "epoch 34 | loss: 0.32265 | val_0_auc: 0.90268 |  0:00:52s\n",
            "epoch 35 | loss: 0.32916 | val_0_auc: 0.90437 |  0:00:54s\n",
            "epoch 36 | loss: 0.3236  | val_0_auc: 0.90697 |  0:00:55s\n",
            "epoch 37 | loss: 0.32264 | val_0_auc: 0.90727 |  0:00:57s\n",
            "epoch 38 | loss: 0.31882 | val_0_auc: 0.90934 |  0:00:58s\n",
            "epoch 39 | loss: 0.32012 | val_0_auc: 0.90838 |  0:00:59s\n",
            "epoch 40 | loss: 0.31857 | val_0_auc: 0.90751 |  0:01:01s\n",
            "epoch 41 | loss: 0.3194  | val_0_auc: 0.90811 |  0:01:03s\n",
            "epoch 42 | loss: 0.31803 | val_0_auc: 0.90694 |  0:01:05s\n",
            "epoch 43 | loss: 0.31974 | val_0_auc: 0.9079  |  0:01:06s\n",
            "epoch 44 | loss: 0.32314 | val_0_auc: 0.90789 |  0:01:08s\n",
            "epoch 45 | loss: 0.31721 | val_0_auc: 0.90791 |  0:01:09s\n",
            "epoch 46 | loss: 0.31943 | val_0_auc: 0.90894 |  0:01:10s\n",
            "epoch 47 | loss: 0.31829 | val_0_auc: 0.90624 |  0:01:12s\n",
            "epoch 48 | loss: 0.31745 | val_0_auc: 0.90738 |  0:01:13s\n",
            "\n",
            "Early stopping occurred at epoch 48 with best_epoch = 38 and best_val_0_auc = 0.90934\n"
          ]
        },
        {
          "output_type": "stream",
          "name": "stderr",
          "text": [
            "/usr/local/lib/python3.10/dist-packages/pytorch_tabnet/callbacks.py:172: UserWarning: Best weights from best epoch are automatically used!\n",
            "  warnings.warn(wrn_msg)\n"
          ]
        },
        {
          "output_type": "stream",
          "name": "stdout",
          "text": [
            "\n",
            "Accuracy of TabNet model: 85.55%\n",
            "Classification Report By Ayan Mastim 211P031:\n",
            "              precision    recall  f1-score   support\n",
            "\n",
            "           0       0.88      0.94      0.91      4942\n",
            "           1       0.75      0.60      0.67      1571\n",
            "\n",
            "    accuracy                           0.86      6513\n",
            "   macro avg       0.82      0.77      0.79      6513\n",
            "weighted avg       0.85      0.86      0.85      6513\n",
            "\n"
          ]
        }
      ]
    },
    {
      "cell_type": "code",
      "source": [],
      "metadata": {
        "id": "BX6CyTXy7j4N"
      },
      "execution_count": null,
      "outputs": []
    }
  ]
}